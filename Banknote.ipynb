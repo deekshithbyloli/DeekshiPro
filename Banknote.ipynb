{
  "nbformat": 4,
  "nbformat_minor": 0,
  "metadata": {
    "colab": {
      "name": "Banknote.ipynb",
      "provenance": [],
      "collapsed_sections": []
    },
    "kernelspec": {
      "name": "python3",
      "display_name": "Python 3"
    },
    "language_info": {
      "name": "python"
    }
  },
  "cells": [
    {
      "cell_type": "markdown",
      "metadata": {
        "id": "QT9PHPHybiZ_"
      },
      "source": [
        "**imports**"
      ]
    },
    {
      "cell_type": "code",
      "metadata": {
        "id": "p6bmu39_bf0P"
      },
      "source": [
        "import numpy as np\n",
        "import pandas as pd\n",
        "import matplotlib.pyplot as plt\n",
        "import seaborn as sns\n",
        "from sklearn.preprocessing import StandardScaler\n",
        "from sklearn.model_selection import train_test_split\n",
        "from sklearn.metrics import confusion_matrix, classification_report\n",
        "from keras.models import Sequential\n",
        "from keras.layers import Dense"
      ],
      "execution_count": 1,
      "outputs": []
    },
    {
      "cell_type": "markdown",
      "metadata": {
        "id": "OLzhmQI_byUi"
      },
      "source": [
        "**Load** **Datasets**"
      ]
    },
    {
      "cell_type": "code",
      "metadata": {
        "id": "rh5aAmf-8xC8"
      },
      "source": [
        "data = pd.read_csv('BankNote_Authentication.csv')"
      ],
      "execution_count": 2,
      "outputs": []
    },
    {
      "cell_type": "code",
      "metadata": {
        "colab": {
          "base_uri": "https://localhost:8080/",
          "height": 204
        },
        "id": "vOSxtype8-hn",
        "outputId": "6448298a-babe-487c-e02c-e3e73f4367e8"
      },
      "source": [
        "data.head()"
      ],
      "execution_count": 3,
      "outputs": [
        {
          "output_type": "execute_result",
          "data": {
            "text/html": [
              "<div>\n",
              "<style scoped>\n",
              "    .dataframe tbody tr th:only-of-type {\n",
              "        vertical-align: middle;\n",
              "    }\n",
              "\n",
              "    .dataframe tbody tr th {\n",
              "        vertical-align: top;\n",
              "    }\n",
              "\n",
              "    .dataframe thead th {\n",
              "        text-align: right;\n",
              "    }\n",
              "</style>\n",
              "<table border=\"1\" class=\"dataframe\">\n",
              "  <thead>\n",
              "    <tr style=\"text-align: right;\">\n",
              "      <th></th>\n",
              "      <th>variance</th>\n",
              "      <th>skewness</th>\n",
              "      <th>curtosis</th>\n",
              "      <th>entropy</th>\n",
              "      <th>class</th>\n",
              "    </tr>\n",
              "  </thead>\n",
              "  <tbody>\n",
              "    <tr>\n",
              "      <th>0</th>\n",
              "      <td>3.62160</td>\n",
              "      <td>8.6661</td>\n",
              "      <td>-2.8073</td>\n",
              "      <td>-0.44699</td>\n",
              "      <td>0</td>\n",
              "    </tr>\n",
              "    <tr>\n",
              "      <th>1</th>\n",
              "      <td>4.54590</td>\n",
              "      <td>8.1674</td>\n",
              "      <td>-2.4586</td>\n",
              "      <td>-1.46210</td>\n",
              "      <td>0</td>\n",
              "    </tr>\n",
              "    <tr>\n",
              "      <th>2</th>\n",
              "      <td>3.86600</td>\n",
              "      <td>-2.6383</td>\n",
              "      <td>1.9242</td>\n",
              "      <td>0.10645</td>\n",
              "      <td>0</td>\n",
              "    </tr>\n",
              "    <tr>\n",
              "      <th>3</th>\n",
              "      <td>3.45660</td>\n",
              "      <td>9.5228</td>\n",
              "      <td>-4.0112</td>\n",
              "      <td>-3.59440</td>\n",
              "      <td>0</td>\n",
              "    </tr>\n",
              "    <tr>\n",
              "      <th>4</th>\n",
              "      <td>0.32924</td>\n",
              "      <td>-4.4552</td>\n",
              "      <td>4.5718</td>\n",
              "      <td>-0.98880</td>\n",
              "      <td>0</td>\n",
              "    </tr>\n",
              "  </tbody>\n",
              "</table>\n",
              "</div>"
            ],
            "text/plain": [
              "   variance  skewness  curtosis  entropy  class\n",
              "0   3.62160    8.6661   -2.8073 -0.44699      0\n",
              "1   4.54590    8.1674   -2.4586 -1.46210      0\n",
              "2   3.86600   -2.6383    1.9242  0.10645      0\n",
              "3   3.45660    9.5228   -4.0112 -3.59440      0\n",
              "4   0.32924   -4.4552    4.5718 -0.98880      0"
            ]
          },
          "metadata": {
            "tags": []
          },
          "execution_count": 3
        }
      ]
    },
    {
      "cell_type": "code",
      "metadata": {
        "colab": {
          "base_uri": "https://localhost:8080/"
        },
        "id": "2PnOZXxQ9ICu",
        "outputId": "74e24f8a-e928-4280-958c-1b3f7e7f6620"
      },
      "source": [
        "data.shape"
      ],
      "execution_count": 4,
      "outputs": [
        {
          "output_type": "execute_result",
          "data": {
            "text/plain": [
              "(1372, 5)"
            ]
          },
          "metadata": {
            "tags": []
          },
          "execution_count": 4
        }
      ]
    },
    {
      "cell_type": "markdown",
      "metadata": {
        "id": "NIwNPZWYckJg"
      },
      "source": [
        "**Exploration Data Analysis**"
      ]
    },
    {
      "cell_type": "code",
      "metadata": {
        "colab": {
          "base_uri": "https://localhost:8080/",
          "height": 295
        },
        "id": "05TZJiri-SHl",
        "outputId": "d6b47f64-b085-489a-f3b9-9a9c9c97d288"
      },
      "source": [
        "plt.title('Authenticate 1 And Fake 0')\n",
        "sns.countplot(x='class', data= data, palette = 'crest')\n",
        "plt.show()"
      ],
      "execution_count": 5,
      "outputs": [
        {
          "output_type": "display_data",
          "data": {
            "image/png": "[encoded data removed]",
            "text/plain": [
              "<Figure size 432x288 with 1 Axes>"
            ]
          },
          "metadata": {
            "tags": [],
            "needs_background": "light"
          }
        }
      ]
    },
    {
      "cell_type": "markdown",
      "metadata": {
        "id": "Oke9KlJedJrf"
      },
      "source": [
        "**Standardize Data**"
      ]
    },
    {
      "cell_type": "code",
      "metadata": {
        "id": "APES_2WXJvao"
      },
      "source": [
        "sc= StandardScaler()"
      ],
      "execution_count": 6,
      "outputs": []
    },
    {
      "cell_type": "code",
      "metadata": {
        "id": "bW4Dw8nXJzeO"
      },
      "source": [
        "sc.fit(X= data.drop('class', axis = 1))\n",
        "standard_data = sc.transform(X= data.drop('class', axis = 1))"
      ],
      "execution_count": 7,
      "outputs": []
    },
    {
      "cell_type": "code",
      "metadata": {
        "colab": {
          "base_uri": "https://localhost:8080/"
        },
        "id": "mi684Q_IKgtQ",
        "outputId": "8ce541ce-f2b1-4ab1-e705-af12deb13fe3"
      },
      "source": [
        "type(standard_data)"
      ],
      "execution_count": 8,
      "outputs": [
        {
          "output_type": "execute_result",
          "data": {
            "text/plain": [
              "numpy.ndarray"
            ]
          },
          "metadata": {
            "tags": []
          },
          "execution_count": 8
        }
      ]
    },
    {
      "cell_type": "markdown",
      "metadata": {
        "id": "RTsYwvNUo4k4"
      },
      "source": [
        "**Convert Scaled data into Data Frame**"
      ]
    },
    {
      "cell_type": "code",
      "metadata": {
        "id": "SvF71lZ3KkZE"
      },
      "source": [
        "scaled_dataframe = pd.DataFrame(data= standard_data, columns = data.columns[:-1])"
      ],
      "execution_count": 9,
      "outputs": []
    },
    {
      "cell_type": "code",
      "metadata": {
        "colab": {
          "base_uri": "https://localhost:8080/",
          "height": 204
        },
        "id": "5zyCeA0BLXtk",
        "outputId": "f3fe9bdd-63db-4c67-fc28-88d27adead79"
      },
      "source": [
        "scaled_dataframe.head()"
      ],
      "execution_count": 10,
      "outputs": [
        {
          "output_type": "execute_result",
          "data": {
            "text/html": [
              "<div>\n",
              "<style scoped>\n",
              "    .dataframe tbody tr th:only-of-type {\n",
              "        vertical-align: middle;\n",
              "    }\n",
              "\n",
              "    .dataframe tbody tr th {\n",
              "        vertical-align: top;\n",
              "    }\n",
              "\n",
              "    .dataframe thead th {\n",
              "        text-align: right;\n",
              "    }\n",
              "</style>\n",
              "<table border=\"1\" class=\"dataframe\">\n",
              "  <thead>\n",
              "    <tr style=\"text-align: right;\">\n",
              "      <th></th>\n",
              "      <th>variance</th>\n",
              "      <th>skewness</th>\n",
              "      <th>curtosis</th>\n",
              "      <th>entropy</th>\n",
              "    </tr>\n",
              "  </thead>\n",
              "  <tbody>\n",
              "    <tr>\n",
              "      <th>0</th>\n",
              "      <td>1.121806</td>\n",
              "      <td>1.149455</td>\n",
              "      <td>-0.975970</td>\n",
              "      <td>0.354561</td>\n",
              "    </tr>\n",
              "    <tr>\n",
              "      <th>1</th>\n",
              "      <td>1.447066</td>\n",
              "      <td>1.064453</td>\n",
              "      <td>-0.895036</td>\n",
              "      <td>-0.128767</td>\n",
              "    </tr>\n",
              "    <tr>\n",
              "      <th>2</th>\n",
              "      <td>1.207810</td>\n",
              "      <td>-0.777352</td>\n",
              "      <td>0.122218</td>\n",
              "      <td>0.618073</td>\n",
              "    </tr>\n",
              "    <tr>\n",
              "      <th>3</th>\n",
              "      <td>1.063742</td>\n",
              "      <td>1.295478</td>\n",
              "      <td>-1.255397</td>\n",
              "      <td>-1.144029</td>\n",
              "    </tr>\n",
              "    <tr>\n",
              "      <th>4</th>\n",
              "      <td>-0.036772</td>\n",
              "      <td>-1.087038</td>\n",
              "      <td>0.736730</td>\n",
              "      <td>0.096587</td>\n",
              "    </tr>\n",
              "  </tbody>\n",
              "</table>\n",
              "</div>"
            ],
            "text/plain": [
              "   variance  skewness  curtosis   entropy\n",
              "0  1.121806  1.149455 -0.975970  0.354561\n",
              "1  1.447066  1.064453 -0.895036 -0.128767\n",
              "2  1.207810 -0.777352  0.122218  0.618073\n",
              "3  1.063742  1.295478 -1.255397 -1.144029\n",
              "4 -0.036772 -1.087038  0.736730  0.096587"
            ]
          },
          "metadata": {
            "tags": []
          },
          "execution_count": 10
        }
      ]
    },
    {
      "cell_type": "code",
      "metadata": {
        "id": "sOK9kXkrLctM"
      },
      "source": [
        "X= scaled_dataframe\n",
        "y= data['class']"
      ],
      "execution_count": 11,
      "outputs": []
    },
    {
      "cell_type": "markdown",
      "metadata": {
        "id": "0N5pZcDapJaW"
      },
      "source": [
        "**Tensorflow accepts the data in numpy array so convert into array**"
      ]
    },
    {
      "cell_type": "code",
      "metadata": {
        "id": "LpmuxwZTBi2d"
      },
      "source": [
        "X = X.values\n",
        "y = y.values"
      ],
      "execution_count": 12,
      "outputs": []
    },
    {
      "cell_type": "code",
      "metadata": {
        "id": "i9aR98yaCcu7"
      },
      "source": [
        "X_train, X_test , y_train, y_test = train_test_split(X, y, test_size = 0.2 , random_state = 42)"
      ],
      "execution_count": 13,
      "outputs": []
    },
    {
      "cell_type": "code",
      "metadata": {
        "colab": {
          "base_uri": "https://localhost:8080/"
        },
        "id": "Mbb6VNamDulK",
        "outputId": "bcd279ff-ec95-417c-e114-918916091c68"
      },
      "source": [
        "X_train.shape"
      ],
      "execution_count": 14,
      "outputs": [
        {
          "output_type": "execute_result",
          "data": {
            "text/plain": [
              "(1097, 4)"
            ]
          },
          "metadata": {
            "tags": []
          },
          "execution_count": 14
        }
      ]
    },
    {
      "cell_type": "code",
      "metadata": {
        "colab": {
          "base_uri": "https://localhost:8080/"
        },
        "id": "LcITDGbJDzJx",
        "outputId": "815161e0-dd58-46c3-fc7d-04ffa75b8a81"
      },
      "source": [
        "X_test.shape"
      ],
      "execution_count": 15,
      "outputs": [
        {
          "output_type": "execute_result",
          "data": {
            "text/plain": [
              "(275, 4)"
            ]
          },
          "metadata": {
            "tags": []
          },
          "execution_count": 15
        }
      ]
    },
    {
      "cell_type": "code",
      "metadata": {
        "colab": {
          "base_uri": "https://localhost:8080/"
        },
        "id": "b_CvonAQXVSt",
        "outputId": "b3a4a077-dc8c-4486-93b3-5c7c624128e2"
      },
      "source": [
        "VALIDATION_SIZE = 200\n",
        "x_val = X_train[:VALIDATION_SIZE]\n",
        "y_val = y_train[:VALIDATION_SIZE]\n",
        "x_val.shape\n"
      ],
      "execution_count": 16,
      "outputs": [
        {
          "output_type": "execute_result",
          "data": {
            "text/plain": [
              "(200, 4)"
            ]
          },
          "metadata": {
            "tags": []
          },
          "execution_count": 16
        }
      ]
    },
    {
      "cell_type": "code",
      "metadata": {
        "colab": {
          "base_uri": "https://localhost:8080/"
        },
        "id": "PPF1H8dwXVXc",
        "outputId": "4d3a081e-15f4-409b-ba90-3fca53a63604"
      },
      "source": [
        "X_train = X_train[VALIDATION_SIZE:]\n",
        "y_train = y_train[VALIDATION_SIZE:]\n",
        "X_train.shape"
      ],
      "execution_count": 17,
      "outputs": [
        {
          "output_type": "execute_result",
          "data": {
            "text/plain": [
              "(897, 4)"
            ]
          },
          "metadata": {
            "tags": []
          },
          "execution_count": 17
        }
      ]
    },
    {
      "cell_type": "code",
      "metadata": {
        "id": "-4K6zw2zDwn6"
      },
      "source": [
        "model_1 = Sequential([\n",
        "    \n",
        "    Dense(units =20, input_dim =4, activation ='relu', name = 'm1_hidden1'),\n",
        "    Dense(units =10, activation ='relu', name = 'm1_hidden2'),\n",
        "    Dense(units =1, activation = 'sigmoid', name = 'm1_ouput')\n",
        "    ])\n",
        "\n",
        "model_1.compile(optimizer='adam', \n",
        "                loss='binary_crossentropy', \n",
        "                metrics=['accuracy'])"
      ],
      "execution_count": 18,
      "outputs": []
    },
    {
      "cell_type": "code",
      "metadata": {
        "colab": {
          "base_uri": "https://localhost:8080/"
        },
        "id": "oS89WprfGn_L",
        "outputId": "ff493cbd-7c5b-4ae4-8b27-f630d5752f38"
      },
      "source": [
        "nr_epochs = 25\n",
        "\n",
        "history=model_1.fit(X_train, y_train, batch_size=30, epochs=nr_epochs,verbose=1, validation_data=(x_val, y_val))\n"
      ],
      "execution_count": 19,
      "outputs": [
        {
          "output_type": "stream",
          "text": [
            "Epoch 1/25\n",
            "30/30 [==============================] - 13s 17ms/step - loss: 0.6461 - accuracy: 0.4737 - val_loss: 0.5926 - val_accuracy: 0.6500\n",
            "Epoch 2/25\n",
            "30/30 [==============================] - 0s 3ms/step - loss: 0.5587 - accuracy: 0.7464 - val_loss: 0.4993 - val_accuracy: 0.8550\n",
            "Epoch 3/25\n",
            "30/30 [==============================] - 0s 3ms/step - loss: 0.4784 - accuracy: 0.9019 - val_loss: 0.4088 - val_accuracy: 0.9250\n",
            "Epoch 4/25\n",
            "30/30 [==============================] - 0s 2ms/step - loss: 0.3882 - accuracy: 0.9225 - val_loss: 0.3222 - val_accuracy: 0.9450\n",
            "Epoch 5/25\n",
            "30/30 [==============================] - 0s 2ms/step - loss: 0.3117 - accuracy: 0.9311 - val_loss: 0.2492 - val_accuracy: 0.9650\n",
            "Epoch 6/25\n",
            "30/30 [==============================] - 0s 2ms/step - loss: 0.2454 - accuracy: 0.9474 - val_loss: 0.1911 - val_accuracy: 0.9750\n",
            "Epoch 7/25\n",
            "30/30 [==============================] - 0s 2ms/step - loss: 0.1930 - accuracy: 0.9528 - val_loss: 0.1466 - val_accuracy: 0.9750\n",
            "Epoch 8/25\n",
            "30/30 [==============================] - 0s 2ms/step - loss: 0.1498 - accuracy: 0.9720 - val_loss: 0.1144 - val_accuracy: 0.9800\n",
            "Epoch 9/25\n",
            "30/30 [==============================] - 0s 2ms/step - loss: 0.1310 - accuracy: 0.9633 - val_loss: 0.0912 - val_accuracy: 0.9850\n",
            "Epoch 10/25\n",
            "30/30 [==============================] - 0s 2ms/step - loss: 0.0990 - accuracy: 0.9696 - val_loss: 0.0737 - val_accuracy: 0.9850\n",
            "Epoch 11/25\n",
            "30/30 [==============================] - 0s 2ms/step - loss: 0.0941 - accuracy: 0.9663 - val_loss: 0.0612 - val_accuracy: 0.9850\n",
            "Epoch 12/25\n",
            "30/30 [==============================] - 0s 2ms/step - loss: 0.0639 - accuracy: 0.9813 - val_loss: 0.0513 - val_accuracy: 0.9850\n",
            "Epoch 13/25\n",
            "30/30 [==============================] - 0s 2ms/step - loss: 0.0574 - accuracy: 0.9773 - val_loss: 0.0450 - val_accuracy: 1.0000\n",
            "Epoch 14/25\n",
            "30/30 [==============================] - 0s 2ms/step - loss: 0.0461 - accuracy: 0.9910 - val_loss: 0.0388 - val_accuracy: 1.0000\n",
            "Epoch 15/25\n",
            "30/30 [==============================] - 0s 2ms/step - loss: 0.0478 - accuracy: 0.9875 - val_loss: 0.0344 - val_accuracy: 1.0000\n",
            "Epoch 16/25\n",
            "30/30 [==============================] - 0s 2ms/step - loss: 0.0391 - accuracy: 0.9882 - val_loss: 0.0305 - val_accuracy: 1.0000\n",
            "Epoch 17/25\n",
            "30/30 [==============================] - 0s 2ms/step - loss: 0.0360 - accuracy: 0.9909 - val_loss: 0.0277 - val_accuracy: 1.0000\n",
            "Epoch 18/25\n",
            "30/30 [==============================] - 0s 2ms/step - loss: 0.0310 - accuracy: 0.9987 - val_loss: 0.0248 - val_accuracy: 1.0000\n",
            "Epoch 19/25\n",
            "30/30 [==============================] - 0s 2ms/step - loss: 0.0238 - accuracy: 0.9998 - val_loss: 0.0219 - val_accuracy: 1.0000\n",
            "Epoch 20/25\n",
            "30/30 [==============================] - 0s 3ms/step - loss: 0.0201 - accuracy: 0.9983 - val_loss: 0.0208 - val_accuracy: 1.0000\n",
            "Epoch 21/25\n",
            "30/30 [==============================] - 0s 2ms/step - loss: 0.0233 - accuracy: 1.0000 - val_loss: 0.0190 - val_accuracy: 1.0000\n",
            "Epoch 22/25\n",
            "30/30 [==============================] - 0s 2ms/step - loss: 0.0188 - accuracy: 1.0000 - val_loss: 0.0171 - val_accuracy: 1.0000\n",
            "Epoch 23/25\n",
            "30/30 [==============================] - 0s 2ms/step - loss: 0.0166 - accuracy: 1.0000 - val_loss: 0.0160 - val_accuracy: 1.0000\n",
            "Epoch 24/25\n",
            "30/30 [==============================] - 0s 2ms/step - loss: 0.0185 - accuracy: 1.0000 - val_loss: 0.0148 - val_accuracy: 1.0000\n",
            "Epoch 25/25\n",
            "30/30 [==============================] - 0s 2ms/step - loss: 0.0135 - accuracy: 1.0000 - val_loss: 0.0136 - val_accuracy: 1.0000\n"
          ],
          "name": "stdout"
        }
      ]
    },
    {
      "cell_type": "code",
      "metadata": {
        "colab": {
          "base_uri": "https://localhost:8080/",
          "height": 513
        },
        "id": "HorVChrIHC4l",
        "outputId": "3a6bff94-8495-4b02-b271-45d255aa4824"
      },
      "source": [
        "plt.figure(figsize=(15,8))\n",
        "plt.plot(history.history['loss'])\n",
        "plt.plot(history.history['accuracy'])\n",
        "plt.title('model accuracy vs model loss')\n",
        "plt.ylabel('accuracy')\n",
        "plt.xlabel('epoch')\n",
        "plt.legend(['loss', 'accuracy'], loc='upper left')\n",
        "plt.show()"
      ],
      "execution_count": 20,
      "outputs": [
        {
          "output_type": "display_data",
          "data": {
            "image/png": "[encoded data removed]",
            "text/plain": [
              "<Figure size 1080x576 with 1 Axes>"
            ]
          },
          "metadata": {
            "tags": [],
            "needs_background": "light"
          }
        }
      ]
    },
    {
      "cell_type": "code",
      "metadata": {
        "colab": {
          "base_uri": "https://localhost:8080/",
          "height": 513
        },
        "id": "VHAJqAY3ME9j",
        "outputId": "721ae954-b6c1-434b-8512-360b2227bdcc"
      },
      "source": [
        "plt.figure(figsize=(15,8))\n",
        "plt.plot(history.history['val_loss'])\n",
        "plt.plot(history.history['val_accuracy'])\n",
        "plt.title('model accuracy vs model loss')\n",
        "plt.ylabel('val_accuracy')\n",
        "plt.xlabel('epoch')\n",
        "plt.legend(['val_loss', 'val_accuracy'], loc='upper left')\n",
        "plt.show()"
      ],
      "execution_count": 21,
      "outputs": [
        {
          "output_type": "display_data",
          "data": {
            "image/png": "[encoded data removed]",
            "text/plain": [
              "<Figure size 1080x576 with 1 Axes>"
            ]
          },
          "metadata": {
            "tags": [],
            "needs_background": "light"
          }
        }
      ]
    },
    {
      "cell_type": "code",
      "metadata": {
        "colab": {
          "base_uri": "https://localhost:8080/"
        },
        "id": "4lzv2L5dZO5Y",
        "outputId": "6e45ad26-b891-4223-cbc3-fe97126d26db"
      },
      "source": [
        "y_predict = model_1.predict_classes(X_test)"
      ],
      "execution_count": 22,
      "outputs": [
        {
          "output_type": "stream",
          "text": [
            "/usr/local/lib/python3.7/dist-packages/keras/engine/sequential.py:450: UserWarning: `model.predict_classes()` is deprecated and will be removed after 2021-01-01. Please use instead:* `np.argmax(model.predict(x), axis=-1)`,   if your model does multi-class classification   (e.g. if it uses a `softmax` last-layer activation).* `(model.predict(x) > 0.5).astype(\"int32\")`,   if your model does binary classification   (e.g. if it uses a `sigmoid` last-layer activation).\n",
            "  warnings.warn('`model.predict_classes()` is deprecated and '\n"
          ],
          "name": "stderr"
        }
      ]
    },
    {
      "cell_type": "code",
      "metadata": {
        "colab": {
          "base_uri": "https://localhost:8080/"
        },
        "id": "O1AdrtsPZgxe",
        "outputId": "64641d24-872e-401d-925b-54e415fd4274"
      },
      "source": [
        "print(confusion_matrix(y_test,y_predict))"
      ],
      "execution_count": 23,
      "outputs": [
        {
          "output_type": "stream",
          "text": [
            "[[148   0]\n",
            " [  0 127]]\n"
          ],
          "name": "stdout"
        }
      ]
    },
    {
      "cell_type": "code",
      "metadata": {
        "colab": {
          "base_uri": "https://localhost:8080/"
        },
        "id": "u2KnFazFanBi",
        "outputId": "e1c882cb-175c-4424-a6bc-0c2abe658f7c"
      },
      "source": [
        "print(classification_report(y_test,y_predict))"
      ],
      "execution_count": 24,
      "outputs": [
        {
          "output_type": "stream",
          "text": [
            "              precision    recall  f1-score   support\n",
            "\n",
            "           0       1.00      1.00      1.00       148\n",
            "           1       1.00      1.00      1.00       127\n",
            "\n",
            "    accuracy                           1.00       275\n",
            "   macro avg       1.00      1.00      1.00       275\n",
            "weighted avg       1.00      1.00      1.00       275\n",
            "\n"
          ],
          "name": "stdout"
        }
      ]
    },
    {
      "cell_type": "code",
      "metadata": {
        "colab": {
          "base_uri": "https://localhost:8080/"
        },
        "id": "UMjEcG5ea4Yc",
        "outputId": "99c4fb94-817a-49e3-a43f-3c9828d03022"
      },
      "source": [
        "score = model_1.evaluate(X_test, y_test, verbose=0)\n",
        "print('Test score: %.3f'%(score[0]))\n",
        "print('Test accuracy: %.3f'%(score[1]))"
      ],
      "execution_count": 25,
      "outputs": [
        {
          "output_type": "stream",
          "text": [
            "Test score: 0.019\n",
            "Test accuracy: 1.000\n"
          ],
          "name": "stdout"
        }
      ]
    },
    {
      "cell_type": "code",
      "metadata": {
        "id": "cEAYpuPJbGyf"
      },
      "source": [
        ""
      ],
      "execution_count": 25,
      "outputs": []
    }
  ]
}